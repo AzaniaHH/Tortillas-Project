{
 "cells": [
  {
   "cell_type": "code",
   "execution_count": 1,
   "metadata": {},
   "outputs": [],
   "source": [
    "import pandas as pd\n",
    "import matplotlib.pyplot as plt\n",
    "import pandas as pd\n",
    "import scipy.stats as st\n",
    "from scipy.stats import linregress\n",
    "from scipy.stats import sem\n",
    "import numpy as np\n",
    "\n",
    "# Load a dataset from a CSV file\n",
    "tortilla_prices_path = (r'C:\\Users\\vanes\\project_1\\tortilla_prices.csv')"
   ]
  },
  {
   "cell_type": "code",
   "execution_count": 3,
   "metadata": {},
   "outputs": [],
   "source": [
    "tortilla_df = pd.read_csv(tortilla_prices_path)"
   ]
  },
  {
   "cell_type": "code",
   "execution_count": 4,
   "metadata": {},
   "outputs": [
    {
     "name": "stdout",
     "output_type": "stream",
     "text": [
      "State                    0\n",
      "City                     0\n",
      "Year                     0\n",
      "Month                    0\n",
      "Day                      0\n",
      "Store type               0\n",
      "Price per kilogram    6390\n",
      "dtype: int64\n"
     ]
    }
   ],
   "source": [
    "# Check for missing values\n",
    "print(tortilla_df.isnull().sum())"
   ]
  },
  {
   "cell_type": "code",
   "execution_count": 5,
   "metadata": {},
   "outputs": [
    {
     "data": {
      "text/plain": [
       "State                 284394\n",
       "City                  284394\n",
       "Year                  284394\n",
       "Month                 284394\n",
       "Day                   284394\n",
       "Store type            284394\n",
       "Price per kilogram    278004\n",
       "dtype: int64"
      ]
     },
     "execution_count": 5,
     "metadata": {},
     "output_type": "execute_result"
    }
   ],
   "source": [
    "tortilla_df.count()"
   ]
  },
  {
   "cell_type": "code",
   "execution_count": 6,
   "metadata": {},
   "outputs": [],
   "source": [
    "# Drop missing values\n",
    "tortilla_df = tortilla_df.dropna(how='any')"
   ]
  },
  {
   "cell_type": "code",
   "execution_count": 7,
   "metadata": {},
   "outputs": [
    {
     "data": {
      "text/plain": [
       "State                 278004\n",
       "City                  278004\n",
       "Year                  278004\n",
       "Month                 278004\n",
       "Day                   278004\n",
       "Store type            278004\n",
       "Price per kilogram    278004\n",
       "dtype: int64"
      ]
     },
     "execution_count": 7,
     "metadata": {},
     "output_type": "execute_result"
    }
   ],
   "source": [
    "tortilla_df.count()"
   ]
  },
  {
   "cell_type": "code",
   "execution_count": 8,
   "metadata": {},
   "outputs": [
    {
     "name": "stdout",
     "output_type": "stream",
     "text": [
      "<class 'pandas.core.frame.DataFrame'>\n",
      "Index: 278004 entries, 0 to 284393\n",
      "Data columns (total 7 columns):\n",
      " #   Column              Non-Null Count   Dtype  \n",
      "---  ------              --------------   -----  \n",
      " 0   State               278004 non-null  object \n",
      " 1   City                278004 non-null  object \n",
      " 2   Year                278004 non-null  int64  \n",
      " 3   Month               278004 non-null  int64  \n",
      " 4   Day                 278004 non-null  int64  \n",
      " 5   Store type          278004 non-null  object \n",
      " 6   Price per kilogram  278004 non-null  float64\n",
      "dtypes: float64(1), int64(3), object(3)\n",
      "memory usage: 17.0+ MB\n"
     ]
    }
   ],
   "source": [
    "tortilla_df.info()"
   ]
  },
  {
   "cell_type": "code",
   "execution_count": 10,
   "metadata": {},
   "outputs": [],
   "source": [
    "tortilla_df=tortilla_df[~tortilla_df[\"Year\"].isna()]"
   ]
  },
  {
   "cell_type": "code",
   "execution_count": 11,
   "metadata": {},
   "outputs": [],
   "source": [
    "tortilla_df[[\"Year\",\"Month\",\"Day\"]]=tortilla_df[[\"Year\",\"Month\",\"Day\"]].astype(int)"
   ]
  },
  {
   "cell_type": "code",
   "execution_count": 13,
   "metadata": {},
   "outputs": [],
   "source": [
    "# Create a new 'date' column with the concatenated date \n",
    "\n",
    "tortilla_df['Date'] = tortilla_df['Month'].astype(str).str.zfill(2) + '/' + tortilla_df['Day'].astype(str).str.zfill(2) + '/' + tortilla_df['Year'].astype(str)"
   ]
  },
  {
   "cell_type": "code",
   "execution_count": 14,
   "metadata": {},
   "outputs": [
    {
     "data": {
      "text/html": [
       "<div>\n",
       "<style scoped>\n",
       "    .dataframe tbody tr th:only-of-type {\n",
       "        vertical-align: middle;\n",
       "    }\n",
       "\n",
       "    .dataframe tbody tr th {\n",
       "        vertical-align: top;\n",
       "    }\n",
       "\n",
       "    .dataframe thead th {\n",
       "        text-align: right;\n",
       "    }\n",
       "</style>\n",
       "<table border=\"1\" class=\"dataframe\">\n",
       "  <thead>\n",
       "    <tr style=\"text-align: right;\">\n",
       "      <th></th>\n",
       "      <th>State</th>\n",
       "      <th>City</th>\n",
       "      <th>Year</th>\n",
       "      <th>Month</th>\n",
       "      <th>Day</th>\n",
       "      <th>Store type</th>\n",
       "      <th>Price per kilogram</th>\n",
       "      <th>Date</th>\n",
       "    </tr>\n",
       "  </thead>\n",
       "  <tbody>\n",
       "    <tr>\n",
       "      <th>0</th>\n",
       "      <td>Aguascalientes</td>\n",
       "      <td>Aguascalientes</td>\n",
       "      <td>2007</td>\n",
       "      <td>1</td>\n",
       "      <td>10</td>\n",
       "      <td>Mom and Pop Store</td>\n",
       "      <td>9.9</td>\n",
       "      <td>01/10/2007</td>\n",
       "    </tr>\n",
       "    <tr>\n",
       "      <th>2</th>\n",
       "      <td>Baja California</td>\n",
       "      <td>Tijuana</td>\n",
       "      <td>2007</td>\n",
       "      <td>1</td>\n",
       "      <td>10</td>\n",
       "      <td>Mom and Pop Store</td>\n",
       "      <td>10.0</td>\n",
       "      <td>01/10/2007</td>\n",
       "    </tr>\n",
       "    <tr>\n",
       "      <th>3</th>\n",
       "      <td>Baja California Sur</td>\n",
       "      <td>La Paz</td>\n",
       "      <td>2007</td>\n",
       "      <td>1</td>\n",
       "      <td>10</td>\n",
       "      <td>Mom and Pop Store</td>\n",
       "      <td>10.0</td>\n",
       "      <td>01/10/2007</td>\n",
       "    </tr>\n",
       "    <tr>\n",
       "      <th>4</th>\n",
       "      <td>Campeche</td>\n",
       "      <td>Campeche</td>\n",
       "      <td>2007</td>\n",
       "      <td>1</td>\n",
       "      <td>10</td>\n",
       "      <td>Mom and Pop Store</td>\n",
       "      <td>10.0</td>\n",
       "      <td>01/10/2007</td>\n",
       "    </tr>\n",
       "    <tr>\n",
       "      <th>5</th>\n",
       "      <td>Coahuila</td>\n",
       "      <td>Piedras Negras</td>\n",
       "      <td>2007</td>\n",
       "      <td>1</td>\n",
       "      <td>10</td>\n",
       "      <td>Mom and Pop Store</td>\n",
       "      <td>10.0</td>\n",
       "      <td>01/10/2007</td>\n",
       "    </tr>\n",
       "  </tbody>\n",
       "</table>\n",
       "</div>"
      ],
      "text/plain": [
       "                 State            City  Year  Month  Day         Store type  \\\n",
       "0       Aguascalientes  Aguascalientes  2007      1   10  Mom and Pop Store   \n",
       "2      Baja California         Tijuana  2007      1   10  Mom and Pop Store   \n",
       "3  Baja California Sur          La Paz  2007      1   10  Mom and Pop Store   \n",
       "4             Campeche        Campeche  2007      1   10  Mom and Pop Store   \n",
       "5             Coahuila  Piedras Negras  2007      1   10  Mom and Pop Store   \n",
       "\n",
       "   Price per kilogram        Date  \n",
       "0                 9.9  01/10/2007  \n",
       "2                10.0  01/10/2007  \n",
       "3                10.0  01/10/2007  \n",
       "4                10.0  01/10/2007  \n",
       "5                10.0  01/10/2007  "
      ]
     },
     "execution_count": 14,
     "metadata": {},
     "output_type": "execute_result"
    }
   ],
   "source": [
    "tortilla_df.head()"
   ]
  },
  {
   "cell_type": "code",
   "execution_count": 22,
   "metadata": {},
   "outputs": [],
   "source": [
    "tortilla_df[\"Date\"]=pd.to_datetime(tortilla_df[\"Date\"])"
   ]
  },
  {
   "cell_type": "code",
   "execution_count": 23,
   "metadata": {},
   "outputs": [
    {
     "name": "stdout",
     "output_type": "stream",
     "text": [
      "<class 'pandas.core.frame.DataFrame'>\n",
      "Index: 278004 entries, 0 to 284393\n",
      "Data columns (total 8 columns):\n",
      " #   Column              Non-Null Count   Dtype         \n",
      "---  ------              --------------   -----         \n",
      " 0   State               278004 non-null  object        \n",
      " 1   City                278004 non-null  object        \n",
      " 2   Year                278004 non-null  int32         \n",
      " 3   Month               278004 non-null  int32         \n",
      " 4   Day                 278004 non-null  int32         \n",
      " 5   Store type          278004 non-null  object        \n",
      " 6   Price per kilogram  278004 non-null  float64       \n",
      " 7   Date                278004 non-null  datetime64[ns]\n",
      "dtypes: datetime64[ns](1), float64(1), int32(3), object(3)\n",
      "memory usage: 15.9+ MB\n"
     ]
    }
   ],
   "source": [
    "tortilla_df.info()"
   ]
  }
 ],
 "metadata": {
  "kernelspec": {
   "display_name": "PandasEnvironment",
   "language": "python",
   "name": "python3"
  },
  "language_info": {
   "codemirror_mode": {
    "name": "ipython",
    "version": 3
   },
   "file_extension": ".py",
   "mimetype": "text/x-python",
   "name": "python",
   "nbconvert_exporter": "python",
   "pygments_lexer": "ipython3",
   "version": "3.10.14"
  }
 },
 "nbformat": 4,
 "nbformat_minor": 2
}
